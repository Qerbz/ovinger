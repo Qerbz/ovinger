{
 "cells": [
  {
   "cell_type": "code",
   "execution_count": null,
   "metadata": {},
   "outputs": [],
   "source": [
    "import pandas as pd\n",
    "import numpy as np\n",
    "from plotly import express as px\n",
    "\n",
    "energy_df = pd.read_csv(\"energy_dataset.csv\")\n",
    "weather_df = pd.read_csv(\"weather_features.csv\")\n",
    "\n",
    "print(f\"Total number of rows in energy dataset: {energy_df.shape[0]}\")\n",
    "print(f\"Total number of rows in weather dataset: {weather_df.shape[0]}\")"
   ]
  }
 ],
 "metadata": {
  "language_info": {
   "name": "python"
  },
  "orig_nbformat": 4
 },
 "nbformat": 4,
 "nbformat_minor": 2
}
